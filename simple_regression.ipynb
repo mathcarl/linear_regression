{
 "cells": [
  {
   "cell_type": "code",
   "execution_count": 1,
   "metadata": {},
   "outputs": [],
   "source": [
    "import numpy as np\n",
    "import matplotlib.pyplot as plt"
   ]
  },
  {
   "cell_type": "code",
   "execution_count": 8,
   "metadata": {},
   "outputs": [
    {
     "data": {
      "text/plain": [
       "Text(0.5, 1.0, 'Sample Dataset')"
      ]
     },
     "execution_count": 8,
     "metadata": {},
     "output_type": "execute_result"
    },
    {
     "data": {
      "image/png": "[encoded data removed]",
      "text/plain": [
       "<Figure size 432x288 with 1 Axes>"
      ]
     },
     "metadata": {
      "needs_background": "light"
     },
     "output_type": "display_data"
    }
   ],
   "source": [
    "# Create dataset\n",
    "X = np.arange(0,10)\n",
    "y = [19,20,20.5,21.5,22,23,23,25.5,24,28]\n",
    "plt.plot(X,y,'.')\n",
    "plt.title(\"Sample Dataset\")"
   ]
  },
  {
   "cell_type": "code",
   "execution_count": 4,
   "metadata": {},
   "outputs": [],
   "source": [
    "# global variables\n",
    "mean_x = np.mean(X)\n",
    "mean_y = np.mean(y)\n",
    "n = len(X)\n",
    "# fit the line\n",
    "def fit(x,y):\n",
    "  numer = 0\n",
    "  denom = 0\n",
    "  for i in range(n):\n",
    "    numer += (X[i]-mean_x)*(y[i]-mean_y)\n",
    "    denom += (X[i]-mean_x)**2\n",
    "  b1 = numer/denom # Slope\n",
    "  b0 = mean_y - (b1*mean_x)\n",
    "  return b1,b0\n",
    "# predict the values\n",
    "def predict(b1,b0,x):\n",
    "  return b1*x+b0\n",
    "# How well did the regression fit the data? use a loss function such as R^2 and MSE.\n",
    "def r_squared(b1,b0,x):\n",
    "  ss_t = 0\n",
    "  ss_r = 0\n",
    "  for i in range(n):\n",
    "    y_pred = predict(b1,b0,x[i])\n",
    "    ss_t += (y[i]-mean_y)**2\n",
    "    ss_r += (y[i]-y_pred)**2\n",
    "  return 1 - (ss_r/ss_t)\n",
    "\n",
    "def MSE(x,y,b1,b0):\n",
    "  return(sum((predict(b1,b0,x)-y)**2))"
   ]
  },
  {
   "cell_type": "code",
   "execution_count": 11,
   "metadata": {},
   "outputs": [
    {
     "name": "stdout",
     "output_type": "stream",
     "text": [
      "0.9\n",
      "6.55\n"
     ]
    }
   ],
   "source": [
    "a,b =fit(X,y)\n",
    "#print(a,b)\n",
    "pred = predict(a,b,X)\n",
    "#print(pred)\n",
    "r_2 = r_squared(a,b,X)\n",
    "print(round(r_2,2))\n",
    "mse = MSE(X,y,a,b)\n",
    "print(round(mse,2))"
   ]
  },
  {
   "cell_type": "code",
   "execution_count": 21,
   "metadata": {},
   "outputs": [
    {
     "data": {
      "text/plain": [
       "<matplotlib.legend.Legend at 0x7fcc09094d00>"
      ]
     },
     "execution_count": 21,
     "metadata": {},
     "output_type": "execute_result"
    },
    {
     "data": {
      "image/png": "[encoded data removed]",
      "text/plain": [
       "<Figure size 432x288 with 1 Axes>"
      ]
     },
     "metadata": {
      "needs_background": "light"
     },
     "output_type": "display_data"
    }
   ],
   "source": [
    "plt.scatter(X,y,label=\"Actual\")\n",
    "plt.plot(X,pred,label=\"Predicted\",color='orange')\n",
    "plt.title(\"Simple Linear Regression\")\n",
    "plt.annotate(\"r-squared = {:.2f}\".format(r_2),(8,20))\n",
    "plt.legend()"
   ]
  }
 ],
 "metadata": {
  "kernelspec": {
   "display_name": "Python 3.8.3 ('base')",
   "language": "python",
   "name": "python3"
  },
  "language_info": {
   "codemirror_mode": {
    "name": "ipython",
    "version": 3
   },
   "file_extension": ".py",
   "mimetype": "text/x-python",
   "name": "python",
   "nbconvert_exporter": "python",
   "pygments_lexer": "ipython3",
   "version": "3.8.3"
  },
  "orig_nbformat": 4,
  "vscode": {
   "interpreter": {
    "hash": "40d3a090f54c6569ab1632332b64b2c03c39dcf918b08424e98f38b5ae0af88f"
   }
  }
 },
 "nbformat": 4,
 "nbformat_minor": 2
}
