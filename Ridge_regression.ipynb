{
 "cells": [
  {
   "cell_type": "markdown",
   "metadata": {},
   "source": [
    "Perform Ridge regression with gradient decent and tune parameter without the help of libraries. Additionally, compare your results using SKLearn to validate your results."
   ]
  },
  {
   "cell_type": "code",
   "execution_count": 1,
   "metadata": {},
   "outputs": [],
   "source": [
    "import pandas as pd\n",
    "import numpy as np\n",
    "import matplotlib.pyplot as plt\n",
    "import math\n",
    "import seaborn as sns\n",
    "from sklearn import linear_model"
   ]
  },
  {
   "cell_type": "code",
   "execution_count": 2,
   "metadata": {},
   "outputs": [
    {
     "data": {
      "text/html": [
       "<div>\n",
       "<style scoped>\n",
       "    .dataframe tbody tr th:only-of-type {\n",
       "        vertical-align: middle;\n",
       "    }\n",
       "\n",
       "    .dataframe tbody tr th {\n",
       "        vertical-align: top;\n",
       "    }\n",
       "\n",
       "    .dataframe thead th {\n",
       "        text-align: right;\n",
       "    }\n",
       "</style>\n",
       "<table border=\"1\" class=\"dataframe\">\n",
       "  <thead>\n",
       "    <tr style=\"text-align: right;\">\n",
       "      <th></th>\n",
       "      <th>Income</th>\n",
       "      <th>Limit</th>\n",
       "      <th>Rating</th>\n",
       "      <th>Cards</th>\n",
       "      <th>Age</th>\n",
       "      <th>Education</th>\n",
       "      <th>Gender</th>\n",
       "      <th>Student</th>\n",
       "      <th>Married</th>\n",
       "      <th>Balance</th>\n",
       "    </tr>\n",
       "  </thead>\n",
       "  <tbody>\n",
       "    <tr>\n",
       "      <th>0</th>\n",
       "      <td>14.891</td>\n",
       "      <td>3606</td>\n",
       "      <td>283</td>\n",
       "      <td>2</td>\n",
       "      <td>34</td>\n",
       "      <td>11</td>\n",
       "      <td>Male</td>\n",
       "      <td>No</td>\n",
       "      <td>Yes</td>\n",
       "      <td>333</td>\n",
       "    </tr>\n",
       "    <tr>\n",
       "      <th>1</th>\n",
       "      <td>106.025</td>\n",
       "      <td>6645</td>\n",
       "      <td>483</td>\n",
       "      <td>3</td>\n",
       "      <td>82</td>\n",
       "      <td>15</td>\n",
       "      <td>Female</td>\n",
       "      <td>Yes</td>\n",
       "      <td>Yes</td>\n",
       "      <td>903</td>\n",
       "    </tr>\n",
       "    <tr>\n",
       "      <th>2</th>\n",
       "      <td>104.593</td>\n",
       "      <td>7075</td>\n",
       "      <td>514</td>\n",
       "      <td>4</td>\n",
       "      <td>71</td>\n",
       "      <td>11</td>\n",
       "      <td>Male</td>\n",
       "      <td>No</td>\n",
       "      <td>No</td>\n",
       "      <td>580</td>\n",
       "    </tr>\n",
       "    <tr>\n",
       "      <th>3</th>\n",
       "      <td>148.924</td>\n",
       "      <td>9504</td>\n",
       "      <td>681</td>\n",
       "      <td>3</td>\n",
       "      <td>36</td>\n",
       "      <td>11</td>\n",
       "      <td>Female</td>\n",
       "      <td>No</td>\n",
       "      <td>No</td>\n",
       "      <td>964</td>\n",
       "    </tr>\n",
       "    <tr>\n",
       "      <th>4</th>\n",
       "      <td>55.882</td>\n",
       "      <td>4897</td>\n",
       "      <td>357</td>\n",
       "      <td>2</td>\n",
       "      <td>68</td>\n",
       "      <td>16</td>\n",
       "      <td>Male</td>\n",
       "      <td>No</td>\n",
       "      <td>Yes</td>\n",
       "      <td>331</td>\n",
       "    </tr>\n",
       "  </tbody>\n",
       "</table>\n",
       "</div>"
      ],
      "text/plain": [
       "    Income  Limit  Rating  Cards  Age  Education  Gender Student Married  \\\n",
       "0   14.891   3606     283      2   34         11    Male      No     Yes   \n",
       "1  106.025   6645     483      3   82         15  Female     Yes     Yes   \n",
       "2  104.593   7075     514      4   71         11    Male      No      No   \n",
       "3  148.924   9504     681      3   36         11  Female      No      No   \n",
       "4   55.882   4897     357      2   68         16    Male      No     Yes   \n",
       "\n",
       "   Balance  \n",
       "0      333  \n",
       "1      903  \n",
       "2      580  \n",
       "3      964  \n",
       "4      331  "
      ]
     },
     "execution_count": 2,
     "metadata": {},
     "output_type": "execute_result"
    }
   ],
   "source": [
    "credit = pd.read_csv('Credit_N400_p9.csv')\n",
    "credit.head()"
   ]
  },
  {
   "cell_type": "code",
   "execution_count": 3,
   "metadata": {},
   "outputs": [],
   "source": [
    "# Changes categorical values to o or 1\n",
    "credit['Gender']=credit['Gender'].astype('category')\n",
    "credit['Student']=credit['Student'].astype('category')\n",
    "credit['Married']=credit[\"Married\"].astype(\"category\")\n",
    "cat_columns=credit.select_dtypes(['category']).columns\n",
    "credit[cat_columns]=credit[cat_columns].apply(lambda x:x.cat.codes)"
   ]
  },
  {
   "cell_type": "code",
   "execution_count": 4,
   "metadata": {},
   "outputs": [],
   "source": [
    "X=credit.drop(['Balance'],axis=1)\n",
    "y=credit['Balance']"
   ]
  },
  {
   "cell_type": "code",
   "execution_count": 5,
   "metadata": {},
   "outputs": [],
   "source": [
    "# creates a function to be recalled to standardize the data\n",
    "def standardize(X):\n",
    "  credit1=(X-X.mean())/X.std() # centralize and standardize the independent values\n",
    "  return credit1\n",
    "def centered_y(y):\n",
    "  credit2=y-y.mean()# centralize the response values\n",
    "  return credit2"
   ]
  },
  {
   "cell_type": "code",
   "execution_count": 6,
   "metadata": {},
   "outputs": [],
   "source": [
    "# center and standardize the data\n",
    "X=standardize(X) # assign the standardization to the independent values in the list\n",
    "y=centered_y(y) # assign the centered function to the response values\n",
    "#X.head()# print standardize data"
   ]
  },
  {
   "cell_type": "code",
   "execution_count": 7,
   "metadata": {},
   "outputs": [],
   "source": [
    "def predict(x,beta):\n",
    "  prediction=np.dot(x,beta)\n",
    "  return prediction\n",
    "\n",
    "def mse(y_true,y_pred):\n",
    "  error=(np.sum((y_true-y_pred)**2))/len(y_true)\n",
    "  return error"
   ]
  },
  {
   "cell_type": "code",
   "execution_count": 8,
   "metadata": {},
   "outputs": [],
   "source": [
    "def cross_split(df,num):\n",
    "       # Step 1 split the data 80/20\n",
    "       validation = df[num*80:((num+1)*80)]\n",
    "       train = pd.concat([df[:num*80],df[((num+1)*80):]])\n",
    "\n",
    "       # Select training the data and drop Balance response variable     \n",
    "       rX_train=train.drop(['Balance'],axis=1)\n",
    "       ry_train=train['Balance']\n",
    "       # Step 2 Centralize and standardize the data\n",
    "       X_train_1 = standardize(rX_train)\n",
    "       y_train_1 = centered_y(ry_train)\n",
    "       # Select validation data and drop the response variable\n",
    "       rX_val=validation.drop(['Balance'],axis=1)\n",
    "       ry_val=validation['Balance']\n",
    "        # centralize and standardize the data\n",
    "       X_val_1 = standardize(rX_val)\n",
    "       y_val_1 = centered_y(ry_val)\n",
    "\n",
    "       return X_train_1,y_train_1,X_val_1,y_val_1\n",
    "\n"
   ]
  },
  {
   "cell_type": "code",
   "execution_count": 9,
   "metadata": {},
   "outputs": [],
   "source": [
    "def r_gradient(X,y,alpha,lamb,beta):\n",
    "\n",
    "  lambbeta=np.dot(lamb,beta)# matrix multiplication for lambda and beta\n",
    "\n",
    "  xst=np.transpose(X) # transpose the X values\n",
    "\n",
    "  xsbeta=np.dot(X,beta) # matrix multiplication for X and beta\n",
    "\n",
    "  prediction=np.subtract(y,xsbeta) # subtract xbeta  from y\n",
    "\n",
    "  prediction2=np.dot(xst,prediction) # combines and multiply previous defined variables\n",
    "  \n",
    "  beta2=np.dot(2*alpha,(np.subtract(lambbeta,prediction2)))\n",
    "  beta =np.subtract(beta,beta2)# total combination of the parameter vector\n",
    "  return beta # return the beta values from the parameter function"
   ]
  },
  {
   "cell_type": "code",
   "execution_count": 73,
   "metadata": {},
   "outputs": [
    {
     "data": {
      "text/html": [
       "<div>\n",
       "<style scoped>\n",
       "    .dataframe tbody tr th:only-of-type {\n",
       "        vertical-align: middle;\n",
       "    }\n",
       "\n",
       "    .dataframe tbody tr th {\n",
       "        vertical-align: top;\n",
       "    }\n",
       "\n",
       "    .dataframe thead th {\n",
       "        text-align: right;\n",
       "    }\n",
       "</style>\n",
       "<table border=\"1\" class=\"dataframe\">\n",
       "  <thead>\n",
       "    <tr style=\"text-align: right;\">\n",
       "      <th></th>\n",
       "      <th>0</th>\n",
       "      <th>1</th>\n",
       "      <th>2</th>\n",
       "      <th>3</th>\n",
       "      <th>4</th>\n",
       "      <th>5</th>\n",
       "      <th>6</th>\n",
       "      <th>7</th>\n",
       "      <th>8</th>\n",
       "    </tr>\n",
       "  </thead>\n",
       "  <tbody>\n",
       "    <tr>\n",
       "      <th>0</th>\n",
       "      <td>-227.307932</td>\n",
       "      <td>288.746216</td>\n",
       "      <td>284.759185</td>\n",
       "      <td>22.096822</td>\n",
       "      <td>-16.893616</td>\n",
       "      <td>-2.006439</td>\n",
       "      <td>3.670441</td>\n",
       "      <td>125.316772</td>\n",
       "      <td>-5.495521</td>\n",
       "    </tr>\n",
       "    <tr>\n",
       "      <th>1</th>\n",
       "      <td>-227.170750</td>\n",
       "      <td>288.739910</td>\n",
       "      <td>284.605675</td>\n",
       "      <td>22.098053</td>\n",
       "      <td>-16.892580</td>\n",
       "      <td>-2.004551</td>\n",
       "      <td>3.666338</td>\n",
       "      <td>125.283411</td>\n",
       "      <td>-5.495204</td>\n",
       "    </tr>\n",
       "    <tr>\n",
       "      <th>2</th>\n",
       "      <td>-225.200654</td>\n",
       "      <td>288.273505</td>\n",
       "      <td>282.970908</td>\n",
       "      <td>22.158331</td>\n",
       "      <td>-16.971332</td>\n",
       "      <td>-1.982149</td>\n",
       "      <td>3.605632</td>\n",
       "      <td>124.960072</td>\n",
       "      <td>-5.505371</td>\n",
       "    </tr>\n",
       "    <tr>\n",
       "      <th>3</th>\n",
       "      <td>-206.582841</td>\n",
       "      <td>277.511896</td>\n",
       "      <td>273.739858</td>\n",
       "      <td>22.427398</td>\n",
       "      <td>-17.673310</td>\n",
       "      <td>-1.739453</td>\n",
       "      <td>3.035434</td>\n",
       "      <td>121.788045</td>\n",
       "      <td>-5.629990</td>\n",
       "    </tr>\n",
       "    <tr>\n",
       "      <th>4</th>\n",
       "      <td>-91.243494</td>\n",
       "      <td>209.829387</td>\n",
       "      <td>208.370976</td>\n",
       "      <td>22.613598</td>\n",
       "      <td>-19.596980</td>\n",
       "      <td>-0.405939</td>\n",
       "      <td>-0.332277</td>\n",
       "      <td>97.597861</td>\n",
       "      <td>-5.818259</td>\n",
       "    </tr>\n",
       "    <tr>\n",
       "      <th>5</th>\n",
       "      <td>22.974251</td>\n",
       "      <td>84.063238</td>\n",
       "      <td>84.202757</td>\n",
       "      <td>10.261706</td>\n",
       "      <td>-5.683981</td>\n",
       "      <td>-0.100476</td>\n",
       "      <td>-1.993705</td>\n",
       "      <td>33.983938</td>\n",
       "      <td>-1.956860</td>\n",
       "    </tr>\n",
       "    <tr>\n",
       "      <th>6</th>\n",
       "      <td>7.300327</td>\n",
       "      <td>14.426757</td>\n",
       "      <td>14.459044</td>\n",
       "      <td>1.499893</td>\n",
       "      <td>-0.127477</td>\n",
       "      <td>-0.114057</td>\n",
       "      <td>-0.363408</td>\n",
       "      <td>4.568672</td>\n",
       "      <td>-0.133970</td>\n",
       "    </tr>\n",
       "  </tbody>\n",
       "</table>\n",
       "</div>"
      ],
      "text/plain": [
       "            0           1           2          3          4         5  \\\n",
       "0 -227.307932  288.746216  284.759185  22.096822 -16.893616 -2.006439   \n",
       "1 -227.170750  288.739910  284.605675  22.098053 -16.892580 -2.004551   \n",
       "2 -225.200654  288.273505  282.970908  22.158331 -16.971332 -1.982149   \n",
       "3 -206.582841  277.511896  273.739858  22.427398 -17.673310 -1.739453   \n",
       "4  -91.243494  209.829387  208.370976  22.613598 -19.596980 -0.405939   \n",
       "5   22.974251   84.063238   84.202757  10.261706  -5.683981 -0.100476   \n",
       "6    7.300327   14.426757   14.459044   1.499893  -0.127477 -0.114057   \n",
       "\n",
       "          6           7         8  \n",
       "0  3.670441  125.316772 -5.495521  \n",
       "1  3.666338  125.283411 -5.495204  \n",
       "2  3.605632  124.960072 -5.505371  \n",
       "3  3.035434  121.788045 -5.629990  \n",
       "4 -0.332277   97.597861 -5.818259  \n",
       "5 -1.993705   33.983938 -1.956860  \n",
       "6 -0.363408    4.568672 -0.133970  "
      ]
     },
     "execution_count": 73,
     "metadata": {},
     "output_type": "execute_result"
    }
   ],
   "source": [
    "lambdas=[10**-4,10**-1,10**0,10**1,10**2,10**3,10**4] # seven preditermined values of lambda (global)\n",
    "beta_list=[] # empty list for beta values\n",
    "# calculate the gradient decent function to find the beta values for the given lambdas\n",
    "for lamb in lambdas:\n",
    "  beta=np.random.uniform(-1,1,X.shape[1])# initialize beta with random number from -1 to 1\n",
    "  for i in range(1000): # perform 1000 iterations\n",
    "    beta_hat=r_gradient(X,y,10**-5,lamb,beta) # apply the function gradient\n",
    "    beta=beta_hat # save the beta values\n",
    "  beta_list.append(beta)# create a list of the beta values\n",
    "  betalist=pd.DataFrame(beta_list)# convert to a data frame\n",
    "betalist # print  the beta list"
   ]
  },
  {
   "cell_type": "code",
   "execution_count": 75,
   "metadata": {},
   "outputs": [
    {
     "data": {
      "image/png": "[encoded data removed]",
      "text/plain": [
       "<Figure size 432x288 with 1 Axes>"
      ]
     },
     "metadata": {},
     "output_type": "display_data"
    }
   ],
   "source": [
    "# plot results for beta values\n",
    "#betas=pd.DataFrame(beta_list)\n",
    "#betas.index=lambdas\n",
    "#pd.DataFrame(betas,columns=X.columns[0:-1])\n",
    "\n",
    "with plt.style.context('fivethirtyeight'):\n",
    "  plt.plot(lambdas,beta_list)\n",
    "  plt.xscale(\"log\")\n",
    "  plt.title('Ridge coefficients as a function of the regularization')\n",
    "  plt.xlabel(r'$\\lambda$',fontsize=12)\n",
    "  plt.ylabel('Coefficents')\n",
    "  plt.show()"
   ]
  },
  {
   "cell_type": "code",
   "execution_count": 12,
   "metadata": {},
   "outputs": [
    {
     "data": {
      "text/html": [
       "<div>\n",
       "<style scoped>\n",
       "    .dataframe tbody tr th:only-of-type {\n",
       "        vertical-align: middle;\n",
       "    }\n",
       "\n",
       "    .dataframe tbody tr th {\n",
       "        vertical-align: top;\n",
       "    }\n",
       "\n",
       "    .dataframe thead th {\n",
       "        text-align: right;\n",
       "    }\n",
       "</style>\n",
       "<table border=\"1\" class=\"dataframe\">\n",
       "  <thead>\n",
       "    <tr style=\"text-align: right;\">\n",
       "      <th></th>\n",
       "      <th>Income</th>\n",
       "      <th>Limit</th>\n",
       "      <th>Rating</th>\n",
       "      <th>Cards</th>\n",
       "      <th>Age</th>\n",
       "      <th>Education</th>\n",
       "      <th>Gender</th>\n",
       "      <th>Student</th>\n",
       "      <th>Married</th>\n",
       "      <th>Balance</th>\n",
       "    </tr>\n",
       "  </thead>\n",
       "  <tbody>\n",
       "    <tr>\n",
       "      <th>0</th>\n",
       "      <td>28.575</td>\n",
       "      <td>2959</td>\n",
       "      <td>231</td>\n",
       "      <td>2</td>\n",
       "      <td>60</td>\n",
       "      <td>11</td>\n",
       "      <td>0</td>\n",
       "      <td>0</td>\n",
       "      <td>0</td>\n",
       "      <td>0</td>\n",
       "    </tr>\n",
       "    <tr>\n",
       "      <th>1</th>\n",
       "      <td>83.948</td>\n",
       "      <td>7100</td>\n",
       "      <td>503</td>\n",
       "      <td>2</td>\n",
       "      <td>44</td>\n",
       "      <td>18</td>\n",
       "      <td>1</td>\n",
       "      <td>0</td>\n",
       "      <td>0</td>\n",
       "      <td>806</td>\n",
       "    </tr>\n",
       "    <tr>\n",
       "      <th>2</th>\n",
       "      <td>180.379</td>\n",
       "      <td>9310</td>\n",
       "      <td>665</td>\n",
       "      <td>3</td>\n",
       "      <td>67</td>\n",
       "      <td>8</td>\n",
       "      <td>0</td>\n",
       "      <td>1</td>\n",
       "      <td>1</td>\n",
       "      <td>1050</td>\n",
       "    </tr>\n",
       "    <tr>\n",
       "      <th>3</th>\n",
       "      <td>55.882</td>\n",
       "      <td>4897</td>\n",
       "      <td>357</td>\n",
       "      <td>2</td>\n",
       "      <td>68</td>\n",
       "      <td>16</td>\n",
       "      <td>1</td>\n",
       "      <td>0</td>\n",
       "      <td>1</td>\n",
       "      <td>331</td>\n",
       "    </tr>\n",
       "    <tr>\n",
       "      <th>4</th>\n",
       "      <td>18.145</td>\n",
       "      <td>3461</td>\n",
       "      <td>279</td>\n",
       "      <td>3</td>\n",
       "      <td>56</td>\n",
       "      <td>15</td>\n",
       "      <td>1</td>\n",
       "      <td>0</td>\n",
       "      <td>1</td>\n",
       "      <td>255</td>\n",
       "    </tr>\n",
       "  </tbody>\n",
       "</table>\n",
       "</div>"
      ],
      "text/plain": [
       "    Income  Limit  Rating  Cards  Age  Education  Gender  Student  Married  \\\n",
       "0   28.575   2959     231      2   60         11       0        0        0   \n",
       "1   83.948   7100     503      2   44         18       1        0        0   \n",
       "2  180.379   9310     665      3   67          8       0        1        1   \n",
       "3   55.882   4897     357      2   68         16       1        0        1   \n",
       "4   18.145   3461     279      3   56         15       1        0        1   \n",
       "\n",
       "   Balance  \n",
       "0        0  \n",
       "1      806  \n",
       "2     1050  \n",
       "3      331  \n",
       "4      255  "
      ]
     },
     "execution_count": 12,
     "metadata": {},
     "output_type": "execute_result"
    }
   ],
   "source": [
    "df=credit.sample(frac=1).reset_index(drop=True)\n",
    "df.head()"
   ]
  },
  {
   "cell_type": "code",
   "execution_count": 54,
   "metadata": {},
   "outputs": [
    {
     "name": "stdout",
     "output_type": "stream",
     "text": [
      "320\n",
      "Loop Complete\n",
      "320\n",
      "Loop Complete\n",
      "320\n",
      "Loop Complete\n",
      "320\n",
      "Loop Complete\n",
      "320\n",
      "Loop Complete\n"
     ]
    }
   ],
   "source": [
    "error_list=[]\n",
    "\n",
    "# step 3 apply gradient decent to training values\n",
    "\n",
    "for i in range(5): # Use the cross split to extract the 5 folds\n",
    "   X_train,y_train,X_val,y_val=cross_split(df,i)\n",
    "   print(len(X_train))\n",
    "   \n",
    "   for lamb in lambdas:\n",
    "       beta=np.random.uniform(-1,1,X_train.shape[1]) # initialize beta values from -1 to 1\n",
    "       \n",
    " # loop to go over the seven lambdas \n",
    "       for k in range(1000): # apply gradient to training data\n",
    "          betahat=r_gradient(X_train,y_train,10**-5,lamb,beta)\n",
    "          beta=betahat\n",
    "        \n",
    "# step 4 apply MSE      \n",
    "# apply MSE to the validation data and create a list       \n",
    "# MSE formula \n",
    "       prediction=predict(X_val,beta)\n",
    "       errors=mse(y_val,prediction) \n",
    "       error_list.append(errors)\n",
    "   print(\"Loop Complete\")\n",
    "       \n",
    "       #print(error_list)\n",
    "       "
   ]
  },
  {
   "cell_type": "code",
   "execution_count": 55,
   "metadata": {},
   "outputs": [],
   "source": [
    "def error_avg(ls:list) ->list:\n",
    "    errors = []\n",
    "    for i in range(7):\n",
    "        er = sum(ls[i::7])/5 # select every 7 value in the list\n",
    "        errors.append(er)\n",
    "    return errors"
   ]
  },
  {
   "cell_type": "code",
   "execution_count": 56,
   "metadata": {},
   "outputs": [
    {
     "data": {
      "image/png": "[encoded data removed]",
      "text/plain": [
       "<Figure size 432x288 with 1 Axes>"
      ]
     },
     "metadata": {},
     "output_type": "display_data"
    }
   ],
   "source": [
    "# plot the values for  the MSE\n",
    "error_mean = error_avg(error_list)\n",
    "with plt.style.context('fivethirtyeight'):\n",
    "  plt.plot(lambdas,error_mean)\n",
    "  plt.xscale('log')\n",
    "  plt.title('Ridge coefficients as a function of the regularization')\n",
    "  plt.xlabel('$\\lambda$')\n",
    "  plt.show()"
   ]
  },
  {
   "cell_type": "code",
   "execution_count": 57,
   "metadata": {},
   "outputs": [
    {
     "data": {
      "text/html": [
       "<div>\n",
       "<style scoped>\n",
       "    .dataframe tbody tr th:only-of-type {\n",
       "        vertical-align: middle;\n",
       "    }\n",
       "\n",
       "    .dataframe tbody tr th {\n",
       "        vertical-align: top;\n",
       "    }\n",
       "\n",
       "    .dataframe thead th {\n",
       "        text-align: right;\n",
       "    }\n",
       "</style>\n",
       "<table border=\"1\" class=\"dataframe\">\n",
       "  <thead>\n",
       "    <tr style=\"text-align: right;\">\n",
       "      <th></th>\n",
       "      <th>0</th>\n",
       "      <th>1</th>\n",
       "      <th>2</th>\n",
       "      <th>3</th>\n",
       "      <th>4</th>\n",
       "      <th>5</th>\n",
       "      <th>6</th>\n",
       "      <th>7</th>\n",
       "      <th>8</th>\n",
       "    </tr>\n",
       "  </thead>\n",
       "  <tbody>\n",
       "    <tr>\n",
       "      <th>0</th>\n",
       "      <td>-227.481559</td>\n",
       "      <td>289.075726</td>\n",
       "      <td>284.585796</td>\n",
       "      <td>22.0952</td>\n",
       "      <td>-16.872938</td>\n",
       "      <td>-2.010343</td>\n",
       "      <td>3.676164</td>\n",
       "      <td>125.324877</td>\n",
       "      <td>-5.490572</td>\n",
       "    </tr>\n",
       "  </tbody>\n",
       "</table>\n",
       "</div>"
      ],
      "text/plain": [
       "            0           1           2        3          4         5         6  \\\n",
       "0 -227.481559  289.075726  284.585796  22.0952 -16.872938 -2.010343  3.676164   \n",
       "\n",
       "            7         8  \n",
       "0  125.324877 -5.490572  "
      ]
     },
     "execution_count": 57,
     "metadata": {},
     "output_type": "execute_result"
    }
   ],
   "source": [
    "beta_list=[]\n",
    "\n",
    "# Run Model using the best parameters\n",
    "beta=np.random.uniform(-1,1,X.shape[1])\n",
    "for i in range(1000):\n",
    "    beta_hat=r_gradient(X,y,10**-5,10**-4,beta)\n",
    "    beta=beta_hat\n",
    "beta_list.append(beta_hat)\n",
    "pd.DataFrame(beta_list)\n"
   ]
  },
  {
   "cell_type": "markdown",
   "metadata": {},
   "source": [
    "Calculate Ridge regression with gradient using SKlearn"
   ]
  },
  {
   "cell_type": "code",
   "execution_count": 39,
   "metadata": {},
   "outputs": [],
   "source": [
    "from sklearn.linear_model import SGDRegressor\n",
    "from sklearn.model_selection import train_test_split"
   ]
  },
  {
   "cell_type": "code",
   "execution_count": 43,
   "metadata": {},
   "outputs": [
    {
     "name": "stdout",
     "output_type": "stream",
     "text": [
      "320 80\n"
     ]
    }
   ],
   "source": [
    "X_train_2, X_test_2, y_train_2, y_test_2 = train_test_split(X,y,test_size=.20,random_state=22)\n",
    "print(len(X_train_2),len(X_test_2))"
   ]
  },
  {
   "cell_type": "code",
   "execution_count": 60,
   "metadata": {},
   "outputs": [
    {
     "name": "stdout",
     "output_type": "stream",
     "text": [
      "9278.53\n",
      "9304.99\n",
      "9830.35\n",
      "17844.61\n",
      "71859.05\n",
      "176445.28\n",
      "226106.85\n"
     ]
    }
   ],
   "source": [
    "n_alphas = 7\n",
    "lambdas_2 = np.logspace(-4, 2, n_alphas)\n",
    "# Find lambda that minimize the error\n",
    "err = []\n",
    "coefs = []\n",
    "for a in lambdas_2:\n",
    "       ridge = SGDRegressor(penalty = 'l2',alpha=a,eta0=0.0001,learning_rate='constant') # alpha refers to lambda in SKlearn\n",
    "       ridge.fit(X_train_2, y_train_2.ravel())\n",
    "       coefs.append(ridge.coef_)\n",
    "       pred=ridge.predict(X_test_2)\n",
    "       error=mse(y_test_2,pred) \n",
    "       print(round(error,2))\n",
    "       err.append(error)\n",
    "\n"
   ]
  },
  {
   "cell_type": "code",
   "execution_count": 65,
   "metadata": {},
   "outputs": [
    {
     "data": {
      "image/png": "[encoded data removed]",
      "text/plain": [
       "<Figure size 432x288 with 1 Axes>"
      ]
     },
     "metadata": {},
     "output_type": "display_data"
    }
   ],
   "source": [
    "with plt.style.context('fivethirtyeight'):\n",
    "  plt.plot(lambdas_2,coefs)\n",
    "  plt.xscale(\"log\")\n",
    "  plt.title('Ridge coefficients as a function of the regularization')\n",
    "  plt.xlabel(r'$\\lambda$',fontsize=12)\n",
    "  plt.ylabel('Coefficents')\n",
    "  plt.show()"
   ]
  },
  {
   "cell_type": "code",
   "execution_count": 47,
   "metadata": {},
   "outputs": [
    {
     "data": {
      "image/png": "[encoded data removed]",
      "text/plain": [
       "<Figure size 432x288 with 1 Axes>"
      ]
     },
     "metadata": {},
     "output_type": "display_data"
    }
   ],
   "source": [
    "with plt.style.context('fivethirtyeight'):\n",
    "  plt.plot(lambdas_2,err)\n",
    "  plt.xscale('log')\n",
    "  plt.xlabel('$\\lambda$')\n",
    "  plt.show()"
   ]
  },
  {
   "cell_type": "code",
   "execution_count": 59,
   "metadata": {},
   "outputs": [
    {
     "name": "stdout",
     "output_type": "stream",
     "text": [
      "The error is: 9279.73\n",
      "            0           1           2          3          4         5  \\\n",
      "0 -266.322362  313.099253  295.537334  19.064443 -13.519487 -5.041578   \n",
      "\n",
      "          6           7         8  \n",
      "0  3.214022  124.558142 -2.409253  \n"
     ]
    }
   ],
   "source": [
    "# run ridge regression with the selected tune parameters\n",
    "ridge_2 = SGDRegressor(penalty = 'l2',alpha=.0001,eta0=0.0001,learning_rate='constant') # alpha refers to lambda in SKlearn\n",
    "ridge_2.fit(X_train_2, y_train_2.ravel())\n",
    "pred=ridge_2.predict(X_test_2)\n",
    "error=mse(y_test_2,pred) \n",
    "print(\"The error is:\",round(error,2))\n",
    "print((pd.DataFrame(ridge_2.coef_)).T)\n",
    "       "
   ]
  }
 ],
 "metadata": {
  "kernelspec": {
   "display_name": "Python 3.8.3 ('base')",
   "language": "python",
   "name": "python3"
  },
  "language_info": {
   "codemirror_mode": {
    "name": "ipython",
    "version": 3
   },
   "file_extension": ".py",
   "mimetype": "text/x-python",
   "name": "python",
   "nbconvert_exporter": "python",
   "pygments_lexer": "ipython3",
   "version": "3.8.3"
  },
  "orig_nbformat": 4,
  "vscode": {
   "interpreter": {
    "hash": "40d3a090f54c6569ab1632332b64b2c03c39dcf918b08424e98f38b5ae0af88f"
   }
  }
 },
 "nbformat": 4,
 "nbformat_minor": 2
}
