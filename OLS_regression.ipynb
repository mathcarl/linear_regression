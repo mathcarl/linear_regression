{
 "cells": [
  {
   "cell_type": "markdown",
   "metadata": {},
   "source": [
    "Perform Ordinary least squares regression and track the result of the model. This will be performed without libraries to calculate the regression. Additionally, The model would be compared using modern libraries such as SKlearn."
   ]
  },
  {
   "cell_type": "code",
   "execution_count": 1,
   "metadata": {},
   "outputs": [],
   "source": [
    "import pandas as pd\n",
    "import numpy as np\n",
    "import matplotlib.pyplot as plt\n",
    "from sklearn import linear_model"
   ]
  },
  {
   "cell_type": "code",
   "execution_count": 2,
   "metadata": {},
   "outputs": [
    {
     "data": {
      "text/html": [
       "<div>\n",
       "<style scoped>\n",
       "    .dataframe tbody tr th:only-of-type {\n",
       "        vertical-align: middle;\n",
       "    }\n",
       "\n",
       "    .dataframe tbody tr th {\n",
       "        vertical-align: top;\n",
       "    }\n",
       "\n",
       "    .dataframe thead th {\n",
       "        text-align: right;\n",
       "    }\n",
       "</style>\n",
       "<table border=\"1\" class=\"dataframe\">\n",
       "  <thead>\n",
       "    <tr style=\"text-align: right;\">\n",
       "      <th></th>\n",
       "      <th>Income</th>\n",
       "      <th>Limit</th>\n",
       "      <th>Rating</th>\n",
       "      <th>Cards</th>\n",
       "      <th>Age</th>\n",
       "      <th>Education</th>\n",
       "      <th>Gender</th>\n",
       "      <th>Student</th>\n",
       "      <th>Married</th>\n",
       "      <th>Balance</th>\n",
       "    </tr>\n",
       "  </thead>\n",
       "  <tbody>\n",
       "    <tr>\n",
       "      <th>0</th>\n",
       "      <td>14.891</td>\n",
       "      <td>3606</td>\n",
       "      <td>283</td>\n",
       "      <td>2</td>\n",
       "      <td>34</td>\n",
       "      <td>11</td>\n",
       "      <td>Male</td>\n",
       "      <td>No</td>\n",
       "      <td>Yes</td>\n",
       "      <td>333</td>\n",
       "    </tr>\n",
       "    <tr>\n",
       "      <th>1</th>\n",
       "      <td>106.025</td>\n",
       "      <td>6645</td>\n",
       "      <td>483</td>\n",
       "      <td>3</td>\n",
       "      <td>82</td>\n",
       "      <td>15</td>\n",
       "      <td>Female</td>\n",
       "      <td>Yes</td>\n",
       "      <td>Yes</td>\n",
       "      <td>903</td>\n",
       "    </tr>\n",
       "    <tr>\n",
       "      <th>2</th>\n",
       "      <td>104.593</td>\n",
       "      <td>7075</td>\n",
       "      <td>514</td>\n",
       "      <td>4</td>\n",
       "      <td>71</td>\n",
       "      <td>11</td>\n",
       "      <td>Male</td>\n",
       "      <td>No</td>\n",
       "      <td>No</td>\n",
       "      <td>580</td>\n",
       "    </tr>\n",
       "    <tr>\n",
       "      <th>3</th>\n",
       "      <td>148.924</td>\n",
       "      <td>9504</td>\n",
       "      <td>681</td>\n",
       "      <td>3</td>\n",
       "      <td>36</td>\n",
       "      <td>11</td>\n",
       "      <td>Female</td>\n",
       "      <td>No</td>\n",
       "      <td>No</td>\n",
       "      <td>964</td>\n",
       "    </tr>\n",
       "    <tr>\n",
       "      <th>4</th>\n",
       "      <td>55.882</td>\n",
       "      <td>4897</td>\n",
       "      <td>357</td>\n",
       "      <td>2</td>\n",
       "      <td>68</td>\n",
       "      <td>16</td>\n",
       "      <td>Male</td>\n",
       "      <td>No</td>\n",
       "      <td>Yes</td>\n",
       "      <td>331</td>\n",
       "    </tr>\n",
       "  </tbody>\n",
       "</table>\n",
       "</div>"
      ],
      "text/plain": [
       "    Income  Limit  Rating  Cards  Age  Education  Gender Student Married  \\\n",
       "0   14.891   3606     283      2   34         11    Male      No     Yes   \n",
       "1  106.025   6645     483      3   82         15  Female     Yes     Yes   \n",
       "2  104.593   7075     514      4   71         11    Male      No      No   \n",
       "3  148.924   9504     681      3   36         11  Female      No      No   \n",
       "4   55.882   4897     357      2   68         16    Male      No     Yes   \n",
       "\n",
       "   Balance  \n",
       "0      333  \n",
       "1      903  \n",
       "2      580  \n",
       "3      964  \n",
       "4      331  "
      ]
     },
     "execution_count": 2,
     "metadata": {},
     "output_type": "execute_result"
    }
   ],
   "source": [
    "credit = pd.read_csv('Credit_N400_p9.csv')\n",
    "credit.head()"
   ]
  },
  {
   "cell_type": "markdown",
   "metadata": {},
   "source": [
    "Feature  Engineering:\n",
    "\n",
    "1. Convert Categorical values\n",
    "2. Standardize and normalize the data.\n"
   ]
  },
  {
   "cell_type": "code",
   "execution_count": 3,
   "metadata": {},
   "outputs": [],
   "source": [
    "# Change Catgorical values to 0 or 1\n",
    "credit['Gender']=credit['Gender'].astype('category')\n",
    "credit['Student']=credit['Student'].astype('category')\n",
    "credit['Married']=credit[\"Married\"].astype(\"category\")\n",
    "cat_columns=credit.select_dtypes(['category']).columns\n",
    "credit[cat_columns]=credit[cat_columns].apply(lambda x:x.cat.codes)"
   ]
  },
  {
   "cell_type": "code",
   "execution_count": 4,
   "metadata": {},
   "outputs": [],
   "source": [
    "# select independent and dependent variables\n",
    "X=credit.drop(['Balance'],axis=1)\n",
    "y=credit['Balance']"
   ]
  },
  {
   "cell_type": "code",
   "execution_count": 5,
   "metadata": {},
   "outputs": [],
   "source": [
    "# creates a function to be recalled to standardize the data\n",
    "def standardize(X):\n",
    "  credit1=(X-X.mean())/X.std() # centralize and standardize the independent values\n",
    "  return credit1\n",
    "def centered_y(y):\n",
    "  credit2=y-y.mean()# centralize the response values\n",
    "  return credit2"
   ]
  },
  {
   "cell_type": "code",
   "execution_count": 6,
   "metadata": {},
   "outputs": [
    {
     "data": {
      "text/html": [
       "<div>\n",
       "<style scoped>\n",
       "    .dataframe tbody tr th:only-of-type {\n",
       "        vertical-align: middle;\n",
       "    }\n",
       "\n",
       "    .dataframe tbody tr th {\n",
       "        vertical-align: top;\n",
       "    }\n",
       "\n",
       "    .dataframe thead th {\n",
       "        text-align: right;\n",
       "    }\n",
       "</style>\n",
       "<table border=\"1\" class=\"dataframe\">\n",
       "  <thead>\n",
       "    <tr style=\"text-align: right;\">\n",
       "      <th></th>\n",
       "      <th>Income</th>\n",
       "      <th>Limit</th>\n",
       "      <th>Rating</th>\n",
       "      <th>Cards</th>\n",
       "      <th>Age</th>\n",
       "      <th>Education</th>\n",
       "      <th>Gender</th>\n",
       "      <th>Student</th>\n",
       "      <th>Married</th>\n",
       "    </tr>\n",
       "  </thead>\n",
       "  <tbody>\n",
       "    <tr>\n",
       "      <th>0</th>\n",
       "      <td>-0.860505</td>\n",
       "      <td>-0.489386</td>\n",
       "      <td>-0.464957</td>\n",
       "      <td>-0.698255</td>\n",
       "      <td>-1.256101</td>\n",
       "      <td>-0.783948</td>\n",
       "      <td>1.034339</td>\n",
       "      <td>-0.332916</td>\n",
       "      <td>0.794400</td>\n",
       "    </tr>\n",
       "    <tr>\n",
       "      <th>1</th>\n",
       "      <td>1.725276</td>\n",
       "      <td>0.827225</td>\n",
       "      <td>0.827667</td>\n",
       "      <td>0.030993</td>\n",
       "      <td>1.526539</td>\n",
       "      <td>0.495967</td>\n",
       "      <td>-0.964384</td>\n",
       "      <td>2.996248</td>\n",
       "      <td>0.794400</td>\n",
       "    </tr>\n",
       "    <tr>\n",
       "      <th>2</th>\n",
       "      <td>1.684646</td>\n",
       "      <td>1.013518</td>\n",
       "      <td>1.028023</td>\n",
       "      <td>0.760241</td>\n",
       "      <td>0.888851</td>\n",
       "      <td>-0.783948</td>\n",
       "      <td>1.034339</td>\n",
       "      <td>-0.332916</td>\n",
       "      <td>-1.255665</td>\n",
       "    </tr>\n",
       "    <tr>\n",
       "      <th>3</th>\n",
       "      <td>2.942467</td>\n",
       "      <td>2.065853</td>\n",
       "      <td>2.107363</td>\n",
       "      <td>0.030993</td>\n",
       "      <td>-1.140158</td>\n",
       "      <td>-0.783948</td>\n",
       "      <td>-0.964384</td>\n",
       "      <td>-0.332916</td>\n",
       "      <td>-1.255665</td>\n",
       "    </tr>\n",
       "    <tr>\n",
       "      <th>4</th>\n",
       "      <td>0.302549</td>\n",
       "      <td>0.069925</td>\n",
       "      <td>0.013314</td>\n",
       "      <td>-0.698255</td>\n",
       "      <td>0.714936</td>\n",
       "      <td>0.815946</td>\n",
       "      <td>1.034339</td>\n",
       "      <td>-0.332916</td>\n",
       "      <td>0.794400</td>\n",
       "    </tr>\n",
       "  </tbody>\n",
       "</table>\n",
       "</div>"
      ],
      "text/plain": [
       "     Income     Limit    Rating     Cards       Age  Education    Gender  \\\n",
       "0 -0.860505 -0.489386 -0.464957 -0.698255 -1.256101  -0.783948  1.034339   \n",
       "1  1.725276  0.827225  0.827667  0.030993  1.526539   0.495967 -0.964384   \n",
       "2  1.684646  1.013518  1.028023  0.760241  0.888851  -0.783948  1.034339   \n",
       "3  2.942467  2.065853  2.107363  0.030993 -1.140158  -0.783948 -0.964384   \n",
       "4  0.302549  0.069925  0.013314 -0.698255  0.714936   0.815946  1.034339   \n",
       "\n",
       "    Student   Married  \n",
       "0 -0.332916  0.794400  \n",
       "1  2.996248  0.794400  \n",
       "2 -0.332916 -1.255665  \n",
       "3 -0.332916 -1.255665  \n",
       "4 -0.332916  0.794400  "
      ]
     },
     "execution_count": 6,
     "metadata": {},
     "output_type": "execute_result"
    }
   ],
   "source": [
    "# center and standardize the data\n",
    "X=standardize(X) # assign the standardization to the independent values in the list\n",
    "y=centered_y(y) # assign the centered function to the response values\n",
    "X.head()# print standardize data"
   ]
  },
  {
   "cell_type": "markdown",
   "metadata": {},
   "source": [
    "Create a ordinary least square function to calculate beta using the closed form formula.\n"
   ]
  },
  {
   "cell_type": "code",
   "execution_count": 7,
   "metadata": {},
   "outputs": [],
   "source": [
    "def beta(X,y):\n",
    "    Xst = np.transpose(X)\n",
    "    Xst_X = np.dot(Xst,X)\n",
    "    Xst_X_inv = np.linalg.inv(Xst_X)\n",
    "    Xst_y = np.dot(Xst,y)\n",
    "    return np.dot(Xst_X_inv,Xst_y)"
   ]
  },
  {
   "cell_type": "code",
   "execution_count": 8,
   "metadata": {},
   "outputs": [
    {
     "data": {
      "text/plain": [
       "array([-274.97585713,  445.6598264 ,  170.54760351,   24.57773459,\n",
       "        -10.94805296,   -3.48469203,    5.20664991,  128.10098409,\n",
       "         -3.42384309])"
      ]
     },
     "execution_count": 8,
     "metadata": {},
     "output_type": "execute_result"
    }
   ],
   "source": [
    "beta_hat = beta(X,y)\n",
    "beta_hat"
   ]
  },
  {
   "cell_type": "markdown",
   "metadata": {},
   "source": [
    "Predict and Measure the accuracy of the model"
   ]
  },
  {
   "cell_type": "code",
   "execution_count": 9,
   "metadata": {},
   "outputs": [],
   "source": [
    "# Create function to predict for MSE later on\n",
    "def predict(x,beta):\n",
    "  prediction=np.dot(x,beta)\n",
    "  return prediction\n",
    "\n",
    "def mse(y_true,y_pred):\n",
    "  error=(np.sum((y_true-y_pred)**2))/len(y_true)\n",
    "  return error"
   ]
  },
  {
   "cell_type": "code",
   "execution_count": 10,
   "metadata": {},
   "outputs": [],
   "source": [
    "pred = predict(X,beta_hat)"
   ]
  },
  {
   "cell_type": "code",
   "execution_count": 11,
   "metadata": {},
   "outputs": [
    {
     "name": "stdout",
     "output_type": "stream",
     "text": [
      "Mean squared error: 9502.04\n"
     ]
    }
   ],
   "source": [
    "print(\"Mean squared error: %.2f\" % mse(y, pred))"
   ]
  },
  {
   "cell_type": "markdown",
   "metadata": {},
   "source": [
    "Compare results with Sklearn linear model"
   ]
  },
  {
   "cell_type": "code",
   "execution_count": 12,
   "metadata": {},
   "outputs": [
    {
     "data": {
      "text/plain": [
       "array([-274.97585713,  445.6598264 ,  170.54760351,   24.57773459,\n",
       "        -10.94805296,   -3.48469203,    5.20664991,  128.10098409,\n",
       "         -3.42384309])"
      ]
     },
     "execution_count": 12,
     "metadata": {},
     "output_type": "execute_result"
    }
   ],
   "source": [
    "model = linear_model.LinearRegression(fit_intercept=False)\n",
    "model = model.fit(X,y)\n",
    "model.coef_"
   ]
  },
  {
   "cell_type": "code",
   "execution_count": 13,
   "metadata": {},
   "outputs": [
    {
     "name": "stdout",
     "output_type": "stream",
     "text": [
      "Mean squared error: 9502.04\n"
     ]
    }
   ],
   "source": [
    "y_predicted = model.predict(X)\n",
    "print(\"Mean squared error: %.2f\" % mse(y, y_predicted))\n"
   ]
  },
  {
   "cell_type": "markdown",
   "metadata": {},
   "source": [
    "Both models contain identical values; thus, we can confirm that the mathematical approach to performing OLS Regression was correct."
   ]
  }
 ],
 "metadata": {
  "kernelspec": {
   "display_name": "Python 3.8.3 ('base')",
   "language": "python",
   "name": "python3"
  },
  "language_info": {
   "codemirror_mode": {
    "name": "ipython",
    "version": 3
   },
   "file_extension": ".py",
   "mimetype": "text/x-python",
   "name": "python",
   "nbconvert_exporter": "python",
   "pygments_lexer": "ipython3",
   "version": "3.8.3"
  },
  "orig_nbformat": 4,
  "vscode": {
   "interpreter": {
    "hash": "40d3a090f54c6569ab1632332b64b2c03c39dcf918b08424e98f38b5ae0af88f"
   }
  }
 },
 "nbformat": 4,
 "nbformat_minor": 2
}
